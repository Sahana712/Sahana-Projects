{
  "nbformat": 4,
  "nbformat_minor": 0,
  "metadata": {
    "colab": {
      "provenance": []
    },
    "kernelspec": {
      "name": "python3",
      "display_name": "Python 3"
    },
    "language_info": {
      "name": "python"
    }
  },
  "cells": [
    {
      "cell_type": "code",
      "execution_count": null,
      "metadata": {
        "id": "vAxkKKDh91nW",
        "colab": {
          "base_uri": "https://localhost:8080/"
        },
        "outputId": "80fd16c4-e60f-4478-f73b-c56f455ca3c4"
      },
      "outputs": [
        {
          "output_type": "stream",
          "name": "stdout",
          "text": [
            "Downloading from https://www.kaggle.com/api/v1/datasets/download/darthvader4067/gopro?dataset_version_number=1...\n"
          ]
        },
        {
          "output_type": "stream",
          "name": "stderr",
          "text": [
            "100%|██████████| 8.89G/8.89G [01:32<00:00, 103MB/s]"
          ]
        },
        {
          "output_type": "stream",
          "name": "stdout",
          "text": [
            "Extracting files...\n"
          ]
        },
        {
          "output_type": "stream",
          "name": "stderr",
          "text": [
            "\n"
          ]
        },
        {
          "output_type": "stream",
          "name": "stdout",
          "text": [
            "Path to dataset files: /root/.cache/kagglehub/datasets/darthvader4067/gopro/versions/1\n"
          ]
        }
      ],
      "source": [
        "import os\n",
        "import torch\n",
        "import torch.nn as nn\n",
        "from torch.utils.data import Dataset, DataLoader\n",
        "import cv2\n",
        "import numpy as np\n",
        "from torchvision import transforms\n",
        "import matplotlib.pyplot as plt\n",
        "import seaborn as sns\n",
        "import kagglehub\n",
        "\n",
        "# Device configuration\n",
        "device = torch.device(\"cuda\" if torch.cuda.is_available() else \"cpu\")\n",
        "\n",
        "# Download dataset from Kaggle\n",
        "path = kagglehub.dataset_download(\"darthvader4067/gopro\")\n",
        "print(\"Path to dataset files:\", path)\n"
      ]
    },
    {
      "cell_type": "code",
      "source": [
        "# Data Preprocessing & Augmentation\n",
        "transform = transforms.Compose([\n",
        "    transforms.ToPILImage(),\n",
        "    transforms.RandomHorizontalFlip(),\n",
        "    transforms.RandomRotation(10),\n",
        "    transforms.ToTensor()\n",
        "])"
      ],
      "metadata": {
        "id": "qcbuU-mp95aq"
      },
      "execution_count": null,
      "outputs": []
    },
    {
      "cell_type": "code",
      "source": [
        "# Plot sample images\n",
        "def plot_sample_images(image_paths, title=\"Sample Images\"):\n",
        "    plt.figure(figsize=(10, 5))\n",
        "    for i in range(min(5, len(image_paths))):\n",
        "        img = cv2.imread(image_paths[i])\n",
        "        img = cv2.cvtColor(img, cv2.COLOR_BGR2RGB)\n",
        "        plt.subplot(1, 5, i+1)\n",
        "        plt.imshow(img)\n",
        "        plt.axis('off')\n",
        "    plt.suptitle(title)\n",
        "    plt.show()\n",
        "\n",
        "# Plot class distribution (here based on number of frames per video if applicable)\n",
        "def plot_class_distribution(paths, title=\"Frame Count Distribution\"):\n",
        "    frame_counts = [len(os.listdir(p)) for p in paths]\n",
        "    sns.histplot(frame_counts, bins=10, kde=True)\n",
        "    plt.title(title)\n",
        "    plt.xlabel(\"Number of Frames\")\n",
        "    plt.ylabel(\"Frequency\")\n",
        "    plt.show()"
      ],
      "metadata": {
        "id": "ML8zJYy197xz"
      },
      "execution_count": null,
      "outputs": []
    },
    {
      "cell_type": "code",
      "source": [
        "# Placeholder Model Definition\n",
        "class EDVR(nn.Module):\n",
        "    def __init__(self):\n",
        "        super(EDVR, self).__init__()\n",
        "        # Dummy layer for demonstration\n",
        "        self.conv = nn.Conv2d(3, 3, kernel_size=3, padding=1)\n",
        "\n",
        "    def forward(self, x):\n",
        "        return self.conv(x)\n"
      ],
      "metadata": {
        "id": "PaQjBKxz-BGF"
      },
      "execution_count": null,
      "outputs": []
    },
    {
      "cell_type": "code",
      "source": [
        "# Dataset Classes\n",
        "class GoProImageDataset(Dataset):\n",
        "    def __init__(self, blurry_paths, sharp_paths, transform=None):\n",
        "        self.blurry_paths = blurry_paths\n",
        "        self.sharp_paths = sharp_paths\n",
        "        self.transform = transform\n",
        "\n",
        "    def __len__(self):\n",
        "        return len(self.blurry_paths)\n",
        "\n",
        "    def __getitem__(self, idx):\n",
        "        blurry_img = cv2.imread(self.blurry_paths[idx])\n",
        "        sharp_img = cv2.imread(self.sharp_paths[idx])\n",
        "        blurry_img = cv2.cvtColor(blurry_img, cv2.COLOR_BGR2RGB)\n",
        "        sharp_img = cv2.cvtColor(sharp_img, cv2.COLOR_BGR2RGB)\n",
        "        if self.transform:\n",
        "            blurry_img = self.transform(blurry_img)\n",
        "            sharp_img = self.transform(sharp_img)\n",
        "        return blurry_img, sharp_img\n",
        "\n",
        "class GoProVideoDataset(Dataset):\n",
        "    def __init__(self, blurry_paths, sharp_paths, num_frames=5, transform=None):\n",
        "        self.blurry_paths = blurry_paths\n",
        "        self.sharp_paths = sharp_paths\n",
        "        self.num_frames = num_frames\n",
        "        self.transform = transform\n",
        "\n",
        "    def __len__(self):\n",
        "        return len(self.blurry_paths) - self.num_frames\n",
        "\n",
        "    def __getitem__(self, idx):\n",
        "        blurry_seq = []\n",
        "        sharp_seq = []\n",
        "        for i in range(self.num_frames):\n",
        "            blurry_img = cv2.imread(self.blurry_paths[idx + i])\n",
        "            sharp_img = cv2.imread(self.sharp_paths[idx + i])\n",
        "            blurry_img = cv2.cvtColor(blurry_img, cv2.COLOR_BGR2RGB)\n",
        "            sharp_img = cv2.cvtColor(sharp_img, cv2.COLOR_BGR2RGB)\n",
        "            if self.transform:\n",
        "                blurry_img = self.transform(blurry_img)\n",
        "                sharp_img = self.transform(sharp_img)\n",
        "            blurry_seq.append(blurry_img)\n",
        "            sharp_seq.append(sharp_img)\n",
        "        return torch.stack(blurry_seq), torch.stack(sharp_seq)\n"
      ],
      "metadata": {
        "id": "hLBH9CLV-C9Y"
      },
      "execution_count": null,
      "outputs": []
    },
    {
      "cell_type": "code",
      "source": [
        "# Training and Evaluation\n",
        "\n",
        "def train_model(model, loader, criterion, optimizer, num_epochs=10):\n",
        "    for epoch in range(num_epochs):\n",
        "        model.train()\n",
        "        total_loss = 0\n",
        "        for blurry, sharp in loader:\n",
        "            blurry, sharp = blurry.to(device), sharp.to(device)\n",
        "            output = model(blurry)\n",
        "            loss = criterion(output, sharp)\n",
        "            optimizer.zero_grad()\n",
        "            loss.backward()\n",
        "            optimizer.step()\n",
        "            total_loss += loss.item()\n",
        "        print(f\"Epoch [{epoch+1}/{num_epochs}] - Loss: {total_loss/len(loader):.4f}\")\n",
        "\n",
        "\n",
        "def evaluate_model(model, loader):\n",
        "    model.eval()\n",
        "    total_mse, total_psnr = 0, 0\n",
        "    with torch.no_grad():\n",
        "        for blurry, sharp in loader:\n",
        "            blurry, sharp = blurry.to(device), sharp.to(device)\n",
        "            output = model(blurry)\n",
        "            mse = ((output - sharp) ** 2).mean().item()\n",
        "            psnr = 10 * torch.log10(1 / mse)\n",
        "            total_mse += mse\n",
        "            total_psnr += psnr.item()\n",
        "    print(f\"Test MSE: {total_mse/len(loader):.4f}, PSNR: {total_psnr/len(loader):.2f} dB\")\n"
      ],
      "metadata": {
        "id": "xtk0K6qP-loj"
      },
      "execution_count": null,
      "outputs": []
    },
    {
      "cell_type": "code",
      "source": [
        "# Save & Download Model\n",
        "\n",
        "def save_model(model, path=\"edvr_deblur.pth\"):\n",
        "    torch.save(model.state_dict(), path)\n",
        "    print(f\"Model saved to {path}\")\n"
      ],
      "metadata": {
        "id": "xDQKD4CT-omN"
      },
      "execution_count": null,
      "outputs": []
    },
    {
      "cell_type": "code",
      "source": [
        "# Image Model Training\n",
        "\n",
        "# Placeholder image paths\n",
        "blurry_paths = [\"https://www.nyip.edu/media/zoo/images/stop-taking-blurry-pictures_89361f2a136cd1ae81bb54636ed2ee72.jpg\", \"https://media.istockphoto.com/id/2149838473/photo/business-meeting-blurred-background-and-people-in-office-for-teamwork-collaboration-and.webp?a=1&b=1&s=612x612&w=0&k=20&c=-unx25hyG4IBmpdLueCfpUzXFWbvpbB1DzA3YnPJcBk=\"]\n",
        "sharp_paths = [\"path_to_sharp_img1\", \"path_to_sharp_img2\"]\n",
        "\n",
        "# Image Dataset and Dataloader\n",
        "image_dataset = GoProImageDataset(blurry_paths, sharp_paths, transform=transform)\n",
        "image_loader = DataLoader(image_dataset, batch_size=4, shuffle=True)\n",
        "\n",
        "# Initialize and train Image Model\n",
        "image_model = EDVR().to(device)\n",
        "image_optimizer = torch.optim.Adam(image_model.parameters(), lr=1e-4)\n",
        "image_criterion = nn.MSELoss()\n",
        "\n",
        "train_model(image_model, image_loader, image_criterion, image_optimizer, num_epochs=5)\n",
        "evaluate_model(image_model, image_loader)\n",
        "save_model(image_model, \"edvr_deblur_image.pth\")"
      ],
      "metadata": {
        "id": "WnShZxUg-qQ_",
        "colab": {
          "base_uri": "https://localhost:8080/",
          "height": 366
        },
        "outputId": "0f67aee5-1204-4147-d79d-49e8ea533bd3"
      },
      "execution_count": null,
      "outputs": [
        {
          "output_type": "error",
          "ename": "error",
          "evalue": "OpenCV(4.11.0) /io/opencv/modules/imgproc/src/color.cpp:199: error: (-215:Assertion failed) !_src.empty() in function 'cvtColor'\n",
          "traceback": [
            "\u001b[0;31m---------------------------------------------------------------------------\u001b[0m",
            "\u001b[0;31merror\u001b[0m                                     Traceback (most recent call last)",
            "\u001b[0;32m<ipython-input-9-4f4f4f7fbf19>\u001b[0m in \u001b[0;36m<cell line: 0>\u001b[0;34m()\u001b[0m\n\u001b[1;32m     14\u001b[0m \u001b[0mimage_criterion\u001b[0m \u001b[0;34m=\u001b[0m \u001b[0mnn\u001b[0m\u001b[0;34m.\u001b[0m\u001b[0mMSELoss\u001b[0m\u001b[0;34m(\u001b[0m\u001b[0;34m)\u001b[0m\u001b[0;34m\u001b[0m\u001b[0;34m\u001b[0m\u001b[0m\n\u001b[1;32m     15\u001b[0m \u001b[0;34m\u001b[0m\u001b[0m\n\u001b[0;32m---> 16\u001b[0;31m \u001b[0mtrain_model\u001b[0m\u001b[0;34m(\u001b[0m\u001b[0mimage_model\u001b[0m\u001b[0;34m,\u001b[0m \u001b[0mimage_loader\u001b[0m\u001b[0;34m,\u001b[0m \u001b[0mimage_criterion\u001b[0m\u001b[0;34m,\u001b[0m \u001b[0mimage_optimizer\u001b[0m\u001b[0;34m,\u001b[0m \u001b[0mnum_epochs\u001b[0m\u001b[0;34m=\u001b[0m\u001b[0;36m5\u001b[0m\u001b[0;34m)\u001b[0m\u001b[0;34m\u001b[0m\u001b[0;34m\u001b[0m\u001b[0m\n\u001b[0m\u001b[1;32m     17\u001b[0m \u001b[0mevaluate_model\u001b[0m\u001b[0;34m(\u001b[0m\u001b[0mimage_model\u001b[0m\u001b[0;34m,\u001b[0m \u001b[0mimage_loader\u001b[0m\u001b[0;34m)\u001b[0m\u001b[0;34m\u001b[0m\u001b[0;34m\u001b[0m\u001b[0m\n\u001b[1;32m     18\u001b[0m \u001b[0msave_model\u001b[0m\u001b[0;34m(\u001b[0m\u001b[0mimage_model\u001b[0m\u001b[0;34m,\u001b[0m \u001b[0;34m\"edvr_deblur_image.pth\"\u001b[0m\u001b[0;34m)\u001b[0m\u001b[0;34m\u001b[0m\u001b[0;34m\u001b[0m\u001b[0m\n",
            "\u001b[0;32m<ipython-input-6-ee3bce81f619>\u001b[0m in \u001b[0;36mtrain_model\u001b[0;34m(model, loader, criterion, optimizer, num_epochs)\u001b[0m\n\u001b[1;32m      5\u001b[0m         \u001b[0mmodel\u001b[0m\u001b[0;34m.\u001b[0m\u001b[0mtrain\u001b[0m\u001b[0;34m(\u001b[0m\u001b[0;34m)\u001b[0m\u001b[0;34m\u001b[0m\u001b[0;34m\u001b[0m\u001b[0m\n\u001b[1;32m      6\u001b[0m         \u001b[0mtotal_loss\u001b[0m \u001b[0;34m=\u001b[0m \u001b[0;36m0\u001b[0m\u001b[0;34m\u001b[0m\u001b[0;34m\u001b[0m\u001b[0m\n\u001b[0;32m----> 7\u001b[0;31m         \u001b[0;32mfor\u001b[0m \u001b[0mblurry\u001b[0m\u001b[0;34m,\u001b[0m \u001b[0msharp\u001b[0m \u001b[0;32min\u001b[0m \u001b[0mloader\u001b[0m\u001b[0;34m:\u001b[0m\u001b[0;34m\u001b[0m\u001b[0;34m\u001b[0m\u001b[0m\n\u001b[0m\u001b[1;32m      8\u001b[0m             \u001b[0mblurry\u001b[0m\u001b[0;34m,\u001b[0m \u001b[0msharp\u001b[0m \u001b[0;34m=\u001b[0m \u001b[0mblurry\u001b[0m\u001b[0;34m.\u001b[0m\u001b[0mto\u001b[0m\u001b[0;34m(\u001b[0m\u001b[0mdevice\u001b[0m\u001b[0;34m)\u001b[0m\u001b[0;34m,\u001b[0m \u001b[0msharp\u001b[0m\u001b[0;34m.\u001b[0m\u001b[0mto\u001b[0m\u001b[0;34m(\u001b[0m\u001b[0mdevice\u001b[0m\u001b[0;34m)\u001b[0m\u001b[0;34m\u001b[0m\u001b[0;34m\u001b[0m\u001b[0m\n\u001b[1;32m      9\u001b[0m             \u001b[0moutput\u001b[0m \u001b[0;34m=\u001b[0m \u001b[0mmodel\u001b[0m\u001b[0;34m(\u001b[0m\u001b[0mblurry\u001b[0m\u001b[0;34m)\u001b[0m\u001b[0;34m\u001b[0m\u001b[0;34m\u001b[0m\u001b[0m\n",
            "\u001b[0;32m/usr/local/lib/python3.11/dist-packages/torch/utils/data/dataloader.py\u001b[0m in \u001b[0;36m__next__\u001b[0;34m(self)\u001b[0m\n\u001b[1;32m    706\u001b[0m                 \u001b[0;31m# TODO(https://github.com/pytorch/pytorch/issues/76750)\u001b[0m\u001b[0;34m\u001b[0m\u001b[0;34m\u001b[0m\u001b[0m\n\u001b[1;32m    707\u001b[0m                 \u001b[0mself\u001b[0m\u001b[0;34m.\u001b[0m\u001b[0m_reset\u001b[0m\u001b[0;34m(\u001b[0m\u001b[0;34m)\u001b[0m  \u001b[0;31m# type: ignore[call-arg]\u001b[0m\u001b[0;34m\u001b[0m\u001b[0;34m\u001b[0m\u001b[0m\n\u001b[0;32m--> 708\u001b[0;31m             \u001b[0mdata\u001b[0m \u001b[0;34m=\u001b[0m \u001b[0mself\u001b[0m\u001b[0;34m.\u001b[0m\u001b[0m_next_data\u001b[0m\u001b[0;34m(\u001b[0m\u001b[0;34m)\u001b[0m\u001b[0;34m\u001b[0m\u001b[0;34m\u001b[0m\u001b[0m\n\u001b[0m\u001b[1;32m    709\u001b[0m             \u001b[0mself\u001b[0m\u001b[0;34m.\u001b[0m\u001b[0m_num_yielded\u001b[0m \u001b[0;34m+=\u001b[0m \u001b[0;36m1\u001b[0m\u001b[0;34m\u001b[0m\u001b[0;34m\u001b[0m\u001b[0m\n\u001b[1;32m    710\u001b[0m             if (\n",
            "\u001b[0;32m/usr/local/lib/python3.11/dist-packages/torch/utils/data/dataloader.py\u001b[0m in \u001b[0;36m_next_data\u001b[0;34m(self)\u001b[0m\n\u001b[1;32m    762\u001b[0m     \u001b[0;32mdef\u001b[0m \u001b[0m_next_data\u001b[0m\u001b[0;34m(\u001b[0m\u001b[0mself\u001b[0m\u001b[0;34m)\u001b[0m\u001b[0;34m:\u001b[0m\u001b[0;34m\u001b[0m\u001b[0;34m\u001b[0m\u001b[0m\n\u001b[1;32m    763\u001b[0m         \u001b[0mindex\u001b[0m \u001b[0;34m=\u001b[0m \u001b[0mself\u001b[0m\u001b[0;34m.\u001b[0m\u001b[0m_next_index\u001b[0m\u001b[0;34m(\u001b[0m\u001b[0;34m)\u001b[0m  \u001b[0;31m# may raise StopIteration\u001b[0m\u001b[0;34m\u001b[0m\u001b[0;34m\u001b[0m\u001b[0m\n\u001b[0;32m--> 764\u001b[0;31m         \u001b[0mdata\u001b[0m \u001b[0;34m=\u001b[0m \u001b[0mself\u001b[0m\u001b[0;34m.\u001b[0m\u001b[0m_dataset_fetcher\u001b[0m\u001b[0;34m.\u001b[0m\u001b[0mfetch\u001b[0m\u001b[0;34m(\u001b[0m\u001b[0mindex\u001b[0m\u001b[0;34m)\u001b[0m  \u001b[0;31m# may raise StopIteration\u001b[0m\u001b[0;34m\u001b[0m\u001b[0;34m\u001b[0m\u001b[0m\n\u001b[0m\u001b[1;32m    765\u001b[0m         \u001b[0;32mif\u001b[0m \u001b[0mself\u001b[0m\u001b[0;34m.\u001b[0m\u001b[0m_pin_memory\u001b[0m\u001b[0;34m:\u001b[0m\u001b[0;34m\u001b[0m\u001b[0;34m\u001b[0m\u001b[0m\n\u001b[1;32m    766\u001b[0m             \u001b[0mdata\u001b[0m \u001b[0;34m=\u001b[0m \u001b[0m_utils\u001b[0m\u001b[0;34m.\u001b[0m\u001b[0mpin_memory\u001b[0m\u001b[0;34m.\u001b[0m\u001b[0mpin_memory\u001b[0m\u001b[0;34m(\u001b[0m\u001b[0mdata\u001b[0m\u001b[0;34m,\u001b[0m \u001b[0mself\u001b[0m\u001b[0;34m.\u001b[0m\u001b[0m_pin_memory_device\u001b[0m\u001b[0;34m)\u001b[0m\u001b[0;34m\u001b[0m\u001b[0;34m\u001b[0m\u001b[0m\n",
            "\u001b[0;32m/usr/local/lib/python3.11/dist-packages/torch/utils/data/_utils/fetch.py\u001b[0m in \u001b[0;36mfetch\u001b[0;34m(self, possibly_batched_index)\u001b[0m\n\u001b[1;32m     50\u001b[0m                 \u001b[0mdata\u001b[0m \u001b[0;34m=\u001b[0m \u001b[0mself\u001b[0m\u001b[0;34m.\u001b[0m\u001b[0mdataset\u001b[0m\u001b[0;34m.\u001b[0m\u001b[0m__getitems__\u001b[0m\u001b[0;34m(\u001b[0m\u001b[0mpossibly_batched_index\u001b[0m\u001b[0;34m)\u001b[0m\u001b[0;34m\u001b[0m\u001b[0;34m\u001b[0m\u001b[0m\n\u001b[1;32m     51\u001b[0m             \u001b[0;32melse\u001b[0m\u001b[0;34m:\u001b[0m\u001b[0;34m\u001b[0m\u001b[0;34m\u001b[0m\u001b[0m\n\u001b[0;32m---> 52\u001b[0;31m                 \u001b[0mdata\u001b[0m \u001b[0;34m=\u001b[0m \u001b[0;34m[\u001b[0m\u001b[0mself\u001b[0m\u001b[0;34m.\u001b[0m\u001b[0mdataset\u001b[0m\u001b[0;34m[\u001b[0m\u001b[0midx\u001b[0m\u001b[0;34m]\u001b[0m \u001b[0;32mfor\u001b[0m \u001b[0midx\u001b[0m \u001b[0;32min\u001b[0m \u001b[0mpossibly_batched_index\u001b[0m\u001b[0;34m]\u001b[0m\u001b[0;34m\u001b[0m\u001b[0;34m\u001b[0m\u001b[0m\n\u001b[0m\u001b[1;32m     53\u001b[0m         \u001b[0;32melse\u001b[0m\u001b[0;34m:\u001b[0m\u001b[0;34m\u001b[0m\u001b[0;34m\u001b[0m\u001b[0m\n\u001b[1;32m     54\u001b[0m             \u001b[0mdata\u001b[0m \u001b[0;34m=\u001b[0m \u001b[0mself\u001b[0m\u001b[0;34m.\u001b[0m\u001b[0mdataset\u001b[0m\u001b[0;34m[\u001b[0m\u001b[0mpossibly_batched_index\u001b[0m\u001b[0;34m]\u001b[0m\u001b[0;34m\u001b[0m\u001b[0;34m\u001b[0m\u001b[0m\n",
            "\u001b[0;32m/usr/local/lib/python3.11/dist-packages/torch/utils/data/_utils/fetch.py\u001b[0m in \u001b[0;36m<listcomp>\u001b[0;34m(.0)\u001b[0m\n\u001b[1;32m     50\u001b[0m                 \u001b[0mdata\u001b[0m \u001b[0;34m=\u001b[0m \u001b[0mself\u001b[0m\u001b[0;34m.\u001b[0m\u001b[0mdataset\u001b[0m\u001b[0;34m.\u001b[0m\u001b[0m__getitems__\u001b[0m\u001b[0;34m(\u001b[0m\u001b[0mpossibly_batched_index\u001b[0m\u001b[0;34m)\u001b[0m\u001b[0;34m\u001b[0m\u001b[0;34m\u001b[0m\u001b[0m\n\u001b[1;32m     51\u001b[0m             \u001b[0;32melse\u001b[0m\u001b[0;34m:\u001b[0m\u001b[0;34m\u001b[0m\u001b[0;34m\u001b[0m\u001b[0m\n\u001b[0;32m---> 52\u001b[0;31m                 \u001b[0mdata\u001b[0m \u001b[0;34m=\u001b[0m \u001b[0;34m[\u001b[0m\u001b[0mself\u001b[0m\u001b[0;34m.\u001b[0m\u001b[0mdataset\u001b[0m\u001b[0;34m[\u001b[0m\u001b[0midx\u001b[0m\u001b[0;34m]\u001b[0m \u001b[0;32mfor\u001b[0m \u001b[0midx\u001b[0m \u001b[0;32min\u001b[0m \u001b[0mpossibly_batched_index\u001b[0m\u001b[0;34m]\u001b[0m\u001b[0;34m\u001b[0m\u001b[0;34m\u001b[0m\u001b[0m\n\u001b[0m\u001b[1;32m     53\u001b[0m         \u001b[0;32melse\u001b[0m\u001b[0;34m:\u001b[0m\u001b[0;34m\u001b[0m\u001b[0;34m\u001b[0m\u001b[0m\n\u001b[1;32m     54\u001b[0m             \u001b[0mdata\u001b[0m \u001b[0;34m=\u001b[0m \u001b[0mself\u001b[0m\u001b[0;34m.\u001b[0m\u001b[0mdataset\u001b[0m\u001b[0;34m[\u001b[0m\u001b[0mpossibly_batched_index\u001b[0m\u001b[0;34m]\u001b[0m\u001b[0;34m\u001b[0m\u001b[0;34m\u001b[0m\u001b[0m\n",
            "\u001b[0;32m<ipython-input-5-97ee08d44b9b>\u001b[0m in \u001b[0;36m__getitem__\u001b[0;34m(self, idx)\u001b[0m\n\u001b[1;32m     12\u001b[0m         \u001b[0mblurry_img\u001b[0m \u001b[0;34m=\u001b[0m \u001b[0mcv2\u001b[0m\u001b[0;34m.\u001b[0m\u001b[0mimread\u001b[0m\u001b[0;34m(\u001b[0m\u001b[0mself\u001b[0m\u001b[0;34m.\u001b[0m\u001b[0mblurry_paths\u001b[0m\u001b[0;34m[\u001b[0m\u001b[0midx\u001b[0m\u001b[0;34m]\u001b[0m\u001b[0;34m)\u001b[0m\u001b[0;34m\u001b[0m\u001b[0;34m\u001b[0m\u001b[0m\n\u001b[1;32m     13\u001b[0m         \u001b[0msharp_img\u001b[0m \u001b[0;34m=\u001b[0m \u001b[0mcv2\u001b[0m\u001b[0;34m.\u001b[0m\u001b[0mimread\u001b[0m\u001b[0;34m(\u001b[0m\u001b[0mself\u001b[0m\u001b[0;34m.\u001b[0m\u001b[0msharp_paths\u001b[0m\u001b[0;34m[\u001b[0m\u001b[0midx\u001b[0m\u001b[0;34m]\u001b[0m\u001b[0;34m)\u001b[0m\u001b[0;34m\u001b[0m\u001b[0;34m\u001b[0m\u001b[0m\n\u001b[0;32m---> 14\u001b[0;31m         \u001b[0mblurry_img\u001b[0m \u001b[0;34m=\u001b[0m \u001b[0mcv2\u001b[0m\u001b[0;34m.\u001b[0m\u001b[0mcvtColor\u001b[0m\u001b[0;34m(\u001b[0m\u001b[0mblurry_img\u001b[0m\u001b[0;34m,\u001b[0m \u001b[0mcv2\u001b[0m\u001b[0;34m.\u001b[0m\u001b[0mCOLOR_BGR2RGB\u001b[0m\u001b[0;34m)\u001b[0m\u001b[0;34m\u001b[0m\u001b[0;34m\u001b[0m\u001b[0m\n\u001b[0m\u001b[1;32m     15\u001b[0m         \u001b[0msharp_img\u001b[0m \u001b[0;34m=\u001b[0m \u001b[0mcv2\u001b[0m\u001b[0;34m.\u001b[0m\u001b[0mcvtColor\u001b[0m\u001b[0;34m(\u001b[0m\u001b[0msharp_img\u001b[0m\u001b[0;34m,\u001b[0m \u001b[0mcv2\u001b[0m\u001b[0;34m.\u001b[0m\u001b[0mCOLOR_BGR2RGB\u001b[0m\u001b[0;34m)\u001b[0m\u001b[0;34m\u001b[0m\u001b[0;34m\u001b[0m\u001b[0m\n\u001b[1;32m     16\u001b[0m         \u001b[0;32mif\u001b[0m \u001b[0mself\u001b[0m\u001b[0;34m.\u001b[0m\u001b[0mtransform\u001b[0m\u001b[0;34m:\u001b[0m\u001b[0;34m\u001b[0m\u001b[0;34m\u001b[0m\u001b[0m\n",
            "\u001b[0;31merror\u001b[0m: OpenCV(4.11.0) /io/opencv/modules/imgproc/src/color.cpp:199: error: (-215:Assertion failed) !_src.empty() in function 'cvtColor'\n"
          ]
        }
      ]
    },
    {
      "cell_type": "code",
      "source": [
        "# Video Model Training\n",
        "\n",
        "# Placeholder video frame paths (same as above for demonstration)\n",
        "video_dataset = GoProVideoDataset(blurry_paths, sharp_paths, num_frames=5, transform=transform)\n",
        "video_loader = DataLoader(video_dataset, batch_size=2, shuffle=True)\n",
        "\n",
        "# Initialize and train Video Model\n",
        "video_model = EDVR().to(device)\n",
        "video_optimizer = torch.optim.Adam(video_model.parameters(), lr=1e-4)\n",
        "video_criterion = nn.MSELoss()\n",
        "\n",
        "train_model(video_model, video_loader, video_criterion, video_optimizer, num_epochs=5)\n",
        "evaluate_model(video_model, video_loader)\n",
        "save_model(video_model, \"edvr_deblur_video.pth\")\n",
        "\n",
        "# Download links for Colab\n",
        "from google.colab import files\n",
        "files.download(\"edvr_deblur_image.pth\")\n",
        "files.download(\"edvr_deblur_video.pth\")\n"
      ],
      "metadata": {
        "id": "C6_cJLX--wHk"
      },
      "execution_count": null,
      "outputs": []
    },
    {
      "cell_type": "markdown",
      "source": [
        "REDS - Restortation - ResidualNet Model"
      ],
      "metadata": {
        "id": "1LrP-HNr_X8r"
      }
    },
    {
      "cell_type": "code",
      "source": [
        "import os\n",
        "import cv2\n",
        "import numpy as np\n",
        "import matplotlib.pyplot as plt\n",
        "from sklearn.model_selection import train_test_split\n",
        "import torch\n",
        "import torch.nn as nn\n",
        "import torch.optim as optim\n",
        "from torch.utils.data import Dataset, DataLoader\n",
        "from torchvision import transforms\n",
        "from torchvision.utils import make_grid\n",
        "from google.colab import files\n",
        "from skimage.metrics import structural_similarity as ssim"
      ],
      "metadata": {
        "id": "3AI7Pork_XSf"
      },
      "execution_count": null,
      "outputs": []
    },
    {
      "cell_type": "code",
      "source": [
        "# Dataset preparation\n",
        "class REDSRestorationDataset(Dataset):\n",
        "    def __init__(self, root_dir, transform=None):\n",
        "        self.root_dir = root_dir\n",
        "        self.transform = transform\n",
        "        self.paired_files = self._load_paired_images()\n",
        "\n",
        "    def _load_paired_images(self):\n",
        "        input_dir = os.path.join(self.root_dir, \"input\")\n",
        "        target_dir = os.path.join(self.root_dir, \"target\")\n",
        "        inputs = sorted(os.listdir(input_dir))\n",
        "        targets = sorted(os.listdir(target_dir))\n",
        "        return [(os.path.join(input_dir, i), os.path.join(target_dir, t)) for i, t in zip(inputs, targets)]\n",
        "\n",
        "    def __len__(self):\n",
        "        return len(self.paired_files)\n",
        "\n",
        "    def __getitem__(self, idx):\n",
        "        input_path, target_path = self.paired_files[idx]\n",
        "        input_img = cv2.imread(input_path)\n",
        "        target_img = cv2.imread(target_path)\n",
        "        input_img = cv2.cvtColor(input_img, cv2.COLOR_BGR2RGB)\n",
        "        target_img = cv2.cvtColor(target_img, cv2.COLOR_BGR2RGB)\n",
        "\n",
        "        if self.transform:\n",
        "            input_img = self.transform(input_img)\n",
        "            target_img = self.transform(target_img)\n",
        "\n",
        "        return input_img, target_img"
      ],
      "metadata": {
        "id": "Gu56K8sPANmW"
      },
      "execution_count": null,
      "outputs": []
    },
    {
      "cell_type": "code",
      "source": [
        "# Transformations\n",
        "transform = transforms.Compose([\n",
        "    transforms.ToPILImage(),\n",
        "    transforms.Resize((128, 128)),\n",
        "    transforms.ToTensor()\n",
        "])"
      ],
      "metadata": {
        "id": "lTPWr9EJAQJ8"
      },
      "execution_count": null,
      "outputs": []
    },
    {
      "cell_type": "code",
      "source": [
        "# Load dataset\n",
        "path = \"/root/.kagglehub/datasets/cookiemonsteryum/reds-video-superresolution-toy-dataset\"\n",
        "dataset = REDSRestorationDataset(path, transform=transform)"
      ],
      "metadata": {
        "id": "CKw9PXOgASER"
      },
      "execution_count": null,
      "outputs": []
    },
    {
      "cell_type": "code",
      "source": [
        "# Visualize sample images\n",
        "def show_sample_images(dataset, n=5):\n",
        "    fig, axs = plt.subplots(n, 2, figsize=(10, n*2))\n",
        "    for i in range(n):\n",
        "        inp, tgt = dataset[i]\n",
        "        axs[i, 0].imshow(inp.permute(1, 2, 0))\n",
        "        axs[i, 0].set_title(\"Input (Degraded)\")\n",
        "        axs[i, 1].imshow(tgt.permute(1, 2, 0))\n",
        "        axs[i, 1].set_title(\"Target (Restored)\")\n",
        "        axs[i, 0].axis('off')\n",
        "        axs[i, 1].axis('off')\n",
        "    plt.tight_layout()\n",
        "    plt.show()\n",
        "\n",
        "show_sample_images(dataset)"
      ],
      "metadata": {
        "id": "MJsAPwkiAVrY"
      },
      "execution_count": null,
      "outputs": []
    },
    {
      "cell_type": "code",
      "source": [
        "# Split data\n",
        "train_size = int(0.8 * len(dataset))\n",
        "test_size = len(dataset) - train_size\n",
        "train_dataset, test_dataset = torch.utils.data.random_split(dataset, [train_size, test_size])\n",
        "train_loader = DataLoader(train_dataset, batch_size=8, shuffle=True)\n",
        "test_loader = DataLoader(test_dataset, batch_size=8, shuffle=False)"
      ],
      "metadata": {
        "id": "v3TTuzU8AWdK"
      },
      "execution_count": null,
      "outputs": []
    },
    {
      "cell_type": "code",
      "source": [
        "# Model Definition: ResidualNet\n",
        "class ResidualBlock(nn.Module):\n",
        "    def __init__(self, channels):\n",
        "        super(ResidualBlock, self).__init__()\n",
        "        self.conv1 = nn.Conv2d(channels, channels, kernel_size=3, padding=1)\n",
        "        self.relu = nn.ReLU(inplace=True)\n",
        "        self.conv2 = nn.Conv2d(channels, channels, kernel_size=3, padding=1)\n",
        "\n",
        "    def forward(self, x):\n",
        "        residual = x\n",
        "        out = self.relu(self.conv1(x))\n",
        "        out = self.conv2(out)\n",
        "        out += residual\n",
        "        return self.relu(out)\n",
        "\n",
        "class ResidualUNet(nn.Module):\n",
        "    def __init__(self):\n",
        "        super(ResidualUNet, self).__init__()\n",
        "        self.entry = nn.Conv2d(3, 64, kernel_size=3, padding=1)\n",
        "        self.resblock1 = ResidualBlock(64)\n",
        "        self.resblock2 = ResidualBlock(64)\n",
        "        self.exit = nn.Conv2d(64, 3, kernel_size=3, padding=1)\n",
        "\n",
        "    def forward(self, x):\n",
        "        out = self.entry(x)\n",
        "        out = self.resblock1(out)\n",
        "        out = self.resblock2(out)\n",
        "        out = self.exit(out)\n",
        "        return out\n"
      ],
      "metadata": {
        "id": "WKgQ7DnjAYKs"
      },
      "execution_count": null,
      "outputs": []
    },
    {
      "cell_type": "code",
      "source": [
        "# Training setup\n",
        "def train_model(model, loader, device, epochs=10):\n",
        "    criterion = nn.MSELoss()\n",
        "    optimizer = optim.Adam(model.parameters(), lr=1e-3)\n",
        "    model.to(device)\n",
        "    train_losses = []\n",
        "\n",
        "    for epoch in range(epochs):\n",
        "        model.train()\n",
        "        running_loss = 0.0\n",
        "        for inputs, targets in loader:\n",
        "            inputs, targets = inputs.to(device), targets.to(device)\n",
        "            optimizer.zero_grad()\n",
        "            outputs = model(inputs)\n",
        "            loss = criterion(outputs, targets)\n",
        "            loss.backward()\n",
        "            optimizer.step()\n",
        "            running_loss += loss.item()\n",
        "        epoch_loss = running_loss / len(loader)\n",
        "        train_losses.append(epoch_loss)\n",
        "        print(f\"Epoch {epoch+1}/{epochs}, Loss: {epoch_loss:.4f}\")\n",
        "\n",
        "    return model, train_losses\n",
        "\n",
        "def evaluate_model(model, loader, device):\n",
        "    model.eval()\n",
        "    criterion = nn.MSELoss()\n",
        "    psnr_total = 0\n",
        "    ssim_total = 0\n",
        "    count = 0\n",
        "    with torch.no_grad():\n",
        "        for inputs, targets in loader:\n",
        "            inputs, targets = inputs.to(device), targets.to(device)\n",
        "            outputs = model(inputs)\n",
        "            mse = criterion(outputs, targets).item()\n",
        "            psnr = 10 * np.log10(1 / mse)\n",
        "            psnr_total += psnr\n",
        "\n",
        "            for i in range(inputs.size(0)):\n",
        "                output_np = outputs[i].cpu().permute(1, 2, 0).numpy()\n",
        "                target_np = targets[i].cpu().permute(1, 2, 0).numpy()\n",
        "                ssim_val = ssim(output_np, target_np, channel_axis=2, data_range=1.0)\n",
        "                ssim_total += ssim_val\n",
        "                count += 1\n",
        "    avg_psnr = psnr_total / len(loader)\n",
        "    avg_ssim = ssim_total / count\n",
        "    print(f\"Average PSNR: {avg_psnr:.2f} dB\")\n",
        "    print(f\"Average SSIM: {avg_ssim:.4f}\")"
      ],
      "metadata": {
        "id": "bF3OOL5UAaQb"
      },
      "execution_count": null,
      "outputs": []
    },
    {
      "cell_type": "code",
      "source": [
        "# Training for Image Restoration\n",
        "print(\"Training Image Restoration Model...\")\n",
        "device = torch.device(\"cuda\" if torch.cuda.is_available() else \"cpu\")\n",
        "image_model = ResidualUNet()\n",
        "image_model, image_losses = train_model(image_model, train_loader, device)\n",
        "plt.plot(image_losses)\n",
        "plt.title(\"Image Restoration Training Loss\")\n",
        "plt.xlabel(\"Epoch\")\n",
        "plt.ylabel(\"Loss\")\n",
        "plt.grid(True)\n",
        "plt.show()\n",
        "evaluate_model(image_model, test_loader, device)"
      ],
      "metadata": {
        "id": "YjgkbuGjAeZq"
      },
      "execution_count": null,
      "outputs": []
    },
    {
      "cell_type": "code",
      "source": [
        "# Save and download image model\n",
        "torch.save(image_model.state_dict(), \"residual_unet_image.pth\")\n",
        "files.download(\"residual_unet_image.pth\")"
      ],
      "metadata": {
        "id": "kVJF1kL-AgE3"
      },
      "execution_count": null,
      "outputs": []
    },
    {
      "cell_type": "code",
      "source": [
        "# Simulate video restoration by grouping sequential frames\n",
        "class VideoREDSRestorationDataset(REDSRestorationDataset):\n",
        "    def __getitem__(self, idx):\n",
        "        input_path, target_path = self.paired_files[idx]\n",
        "        input_img = cv2.imread(input_path)\n",
        "        target_img = cv2.imread(target_path)\n",
        "        input_img = cv2.cvtColor(input_img, cv2.COLOR_BGR2RGB)\n",
        "        target_img = cv2.cvtColor(target_img, cv2.COLOR_BGR2RGB)\n",
        "\n",
        "        if self.transform:\n",
        "            input_img = self.transform(input_img)\n",
        "            target_img = self.transform(target_img)\n",
        "\n",
        "        return input_img.unsqueeze(0), target_img.unsqueeze(0)\n",
        "\n",
        "video_dataset = VideoREDSRestorationDataset(path, transform=transform)\n",
        "train_vdataset, test_vdataset = torch.utils.data.random_split(video_dataset, [train_size, test_size])\n",
        "train_vloader = DataLoader(train_vdataset, batch_size=8, shuffle=True)\n",
        "test_vloader = DataLoader(test_vdataset, batch_size=8, shuffle=False)"
      ],
      "metadata": {
        "id": "KPYVRubxAh26"
      },
      "execution_count": null,
      "outputs": []
    },
    {
      "cell_type": "code",
      "source": [
        "# Training for Video Restoration\n",
        "print(\"Training Video Restoration Model...\")\n",
        "video_model = ResidualUNet()\n",
        "video_model, video_losses = train_model(video_model, train_vloader, device)\n",
        "plt.plot(video_losses)\n",
        "plt.title(\"Video Restoration Training Loss\")\n",
        "plt.xlabel(\"Epoch\")\n",
        "plt.ylabel(\"Loss\")\n",
        "plt.grid(True)\n",
        "plt.show()\n",
        "evaluate_model(video_model, test_vloader, device)"
      ],
      "metadata": {
        "id": "HVLi4IehAlkM"
      },
      "execution_count": null,
      "outputs": []
    },
    {
      "cell_type": "code",
      "source": [
        "# Save and download video model\n",
        "torch.save(video_model.state_dict(), \"residual_unet_video.pth\")\n",
        "files.download(\"residual_unet_video.pth\")\n"
      ],
      "metadata": {
        "id": "K8BEJfHEAmNK"
      },
      "execution_count": null,
      "outputs": []
    }
  ]
}